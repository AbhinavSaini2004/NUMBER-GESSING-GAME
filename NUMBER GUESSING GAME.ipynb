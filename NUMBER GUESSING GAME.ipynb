{
 "cells": [
  {
   "cell_type": "code",
   "execution_count": 1,
   "id": "3fb9fe0d",
   "metadata": {},
   "outputs": [
    {
     "name": "stdout",
     "output_type": "stream",
     "text": [
      "Enter Lower bound:- 0\n",
      "Enter Upper bound:- 21\n",
      "\n",
      "\tYou've only  4  chances to guess the integer!\n",
      "\n",
      "Guess a number:- 10\n",
      "You guessed too small!\n",
      "Guess a number:- 15\n",
      "You Guessed too high!\n",
      "Guess a number:- 13\n",
      "Congratulations you did it in  3 try\n"
     ]
    }
   ],
   "source": [
    "import random\n",
    "import math\n",
    "lower = int(input(\"Enter Lower bound:- \"))\n",
    "upper = int(input(\"Enter Upper bound:- \"))\n",
    "x = random.randint(lower, upper)\n",
    "print(\"\\n\\tYou've only \",\n",
    "       round(math.log(upper - lower + 1, 2)),\n",
    "      \" chances to guess the integer!\\n\")\n",
    "count = 0\n",
    " \n",
    "while count < math.log(upper - lower + 1, 2):\n",
    "    count += 1\n",
    " \n",
    "\n",
    "    guess = int(input(\"Guess a number:- \"))\n",
    " \n",
    "    \n",
    "    if x == guess:\n",
    "        print(\"Congratulations you did it in \",\n",
    "              count,\"try\")\n",
    "        \n",
    "        break\n",
    "    elif x > guess:\n",
    "        print(\"You guessed too small!\")\n",
    "    elif x < guess:\n",
    "        print(\"You Guessed too high!\")\n",
    " \n",
    "\n",
    "if count >= math.log(upper - lower + 1, 2):\n",
    "    print(\"\\nThe number is %d\" % x)\n",
    "    print(\"\\t Alas! Better Luck Next Time!. Your Dare Is:-\")\n",
    "   \n",
    "\n",
    "\n",
    "    a=[(\"Go next door and ask the neighbors to borrow a random item.\"),(\"Lick your elbow.\"),(\"Sing a song with a silly voice.\"),\n",
    "(\"Don’t laugh while the other players try to make you laugh.\"),(\"Imitate another player.\"),(\"Do a silly dance.\"),(\"Eat a spoonful of sugar\"),(\"Drink a glass of water with salt in it.\")\n",
    ",(\"Prank call a friend.\"),(\"Try to do a cartwheel.\"),(\"Eat something without using your hands.\"),(\"Try not to blink for 30 seconds.\"),(\"Imitate a cartoon character.\"),\n",
    "(\"Hold an ice cube in your hand until it melts.\"),(\"Talk with your tongue sticking out.\"),(\"Draw or write something while holding the pen in your mouth.\"),\n",
    "(\"Eat a spoonful of peanut butter and try singing.\"),(\"Try saying something with your mouth closed.\"),(\"Talk using the third person until the next turn.\"),\n",
    "(\"Sing every time you want to say something until the next turn.\"),(\"Spin ten times and try performing a simple task.\"),(\"Talk and act like a cowboy.\"),\n",
    "(\"Stand on your hands.\"),(\"Draw something blindfolded.\")]\n",
    "\n",
    "    y=random.choice(a)\n",
    "    print(y)"
   ]
  },
  {
   "cell_type": "code",
   "execution_count": null,
   "id": "250dc7a5",
   "metadata": {},
   "outputs": [],
   "source": []
  },
  {
   "cell_type": "code",
   "execution_count": null,
   "id": "8ef7bc14",
   "metadata": {},
   "outputs": [],
   "source": []
  },
  {
   "cell_type": "code",
   "execution_count": null,
   "id": "034628e7",
   "metadata": {},
   "outputs": [],
   "source": []
  }
 ],
 "metadata": {
  "kernelspec": {
   "display_name": "Python 3 (ipykernel)",
   "language": "python",
   "name": "python3"
  },
  "language_info": {
   "codemirror_mode": {
    "name": "ipython",
    "version": 3
   },
   "file_extension": ".py",
   "mimetype": "text/x-python",
   "name": "python",
   "nbconvert_exporter": "python",
   "pygments_lexer": "ipython3",
   "version": "3.9.12"
  }
 },
 "nbformat": 4,
 "nbformat_minor": 5
}
